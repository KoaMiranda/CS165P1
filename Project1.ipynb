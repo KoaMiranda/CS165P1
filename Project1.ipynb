{
  "nbformat": 4,
  "nbformat_minor": 0,
  "metadata": {
    "colab": {
      "provenance": [],
      "authorship_tag": "ABX9TyPuo1tDVXedwW/hkenQV5ef",
      "include_colab_link": true
    },
    "kernelspec": {
      "name": "python3",
      "display_name": "Python 3"
    },
    "language_info": {
      "name": "python"
    }
  },
  "cells": [
    {
      "cell_type": "markdown",
      "metadata": {
        "id": "view-in-github",
        "colab_type": "text"
      },
      "source": [
        "<a href=\"https://colab.research.google.com/github/KoaMiranda/CS165P1/blob/main/Project1.ipynb\" target=\"_parent\"><img src=\"https://colab.research.google.com/assets/colab-badge.svg\" alt=\"Open In Colab\"/></a>"
      ]
    },
    {
      "cell_type": "code",
      "execution_count": null,
      "metadata": {
        "id": "J9seflpLsfBr"
      },
      "outputs": [],
      "source": [
        "import os\n",
        "import fileinput as fi #unnecessary? loadtext?\n",
        "import numpy as np"
      ]
    },
    {
      "cell_type": "code",
      "source": [
        "#make big txt file 1-256\n",
        "import random as rand\n",
        "rand.seed()\n",
        "test_txt = open(\"test.txt\", \"w\")\n",
        "for i in range(rand.randint(1,256)):\n",
        "  test_txt.write(str(rand.random()*10) + \"\\t\" + str(rand.random()*10) + \"\\n\")\n",
        "test_txt.close()"
      ],
      "metadata": {
        "id": "WN0epwDuqSd9"
      },
      "execution_count": null,
      "outputs": []
    },
    {
      "cell_type": "code",
      "source": [
        "def file_grabber():\n",
        "  txt_file = input(\"please enter a txt_file name: \")\n",
        "  locs = np.loadtxt(txt_file, dtype=np.double)\n",
        "  return locs\n",
        "\n",
        "arr = file_grabber() #debug"
      ],
      "metadata": {
        "colab": {
          "base_uri": "https://localhost:8080/"
        },
        "id": "SghAq_UosqVa",
        "outputId": "c0c95c8a-28ec-4323-a9c8-f60f03440b66"
      },
      "execution_count": null,
      "outputs": [
        {
          "name": "stdout",
          "output_type": "stream",
          "text": [
            "please enter a txt_file name: test.txt\n"
          ]
        }
      ]
    },
    {
      "cell_type": "code",
      "source": [
        "def eucl_dist(inp: np.array((),dtype=np.double)):\n",
        "  ignore = 0\n",
        "  rows = inp.shape[0]\n",
        "  cols = inp.shape[1]\n",
        "  gNNmatrix = np.zeros((rows,rows))\n",
        "\n",
        "  for i in range(rows):\n",
        "      temp = list(range(cols)) #for the x,y coords\n",
        "      for j in range(rows):\n",
        "          if j < ignore: continue #ex. when j == 3, should skip 0,1,2\n",
        "          if i == j: continue #skip the diagonal\n",
        "\n",
        "          for k in range(cols):\n",
        "            temp[k] = inp[i,k] - inp[j,k] #ex. row 2, inp([2][0]) - inp([3+0][0])\n",
        "          temp[0] = temp[0]**2 #x-coord\n",
        "          temp[1] = temp[1]**2 #y-coord\n",
        "          total = temp[0] + temp[1]\n",
        "          ed = np.sqrt(total) #euclidean distance\n",
        "          gNNmatrix[i][j] = ed # assign it to the global NxN matrix\n",
        "      ignore += 1 #only top triangle of matrix\n",
        "  return gNNmatrix\n",
        "\n",
        "print(eucl_dist(arr)) #debug\n",
        "# eucl_dist(arr) #debug"
      ],
      "metadata": {
        "colab": {
          "base_uri": "https://localhost:8080/"
        },
        "id": "xuG9N6PCs_Ty",
        "outputId": "cbbb9810-0975-4b8c-e510-fb2fcbdf19ce"
      },
      "execution_count": null,
      "outputs": [
        {
          "output_type": "stream",
          "name": "stdout",
          "text": [
            "[[0.         2.52115002 7.30641842 ... 4.75867512 1.57182309 6.93772201]\n",
            " [0.         0.         7.92132779 ... 4.04416792 3.32922057 7.73055811]\n",
            " [0.         0.         0.         ... 4.48567518 5.77720216 0.6175444 ]\n",
            " ...\n",
            " [0.         0.         0.         ... 0.         3.89533981 4.53317062]\n",
            " [0.         0.         0.         ... 0.         0.         5.38502726]\n",
            " [0.         0.         0.         ... 0.         0.         0.        ]]\n"
          ]
        },
        {
          "output_type": "execute_result",
          "data": {
            "text/plain": [
              "array([[0.        , 2.52115002, 7.30641842, ..., 4.75867512, 1.57182309,\n",
              "        6.93772201],\n",
              "       [0.        , 0.        , 7.92132779, ..., 4.04416792, 3.32922057,\n",
              "        7.73055811],\n",
              "       [0.        , 0.        , 0.        , ..., 4.48567518, 5.77720216,\n",
              "        0.6175444 ],\n",
              "       ...,\n",
              "       [0.        , 0.        , 0.        , ..., 0.        , 3.89533981,\n",
              "        4.53317062],\n",
              "       [0.        , 0.        , 0.        , ..., 0.        , 0.        ,\n",
              "        5.38502726],\n",
              "       [0.        , 0.        , 0.        , ..., 0.        , 0.        ,\n",
              "        0.        ]])"
            ]
          },
          "metadata": {},
          "execution_count": 62
        }
      ]
    }
  ]
}